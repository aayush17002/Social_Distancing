{
 "cells": [
  {
   "cell_type": "code",
   "execution_count": null,
   "metadata": {},
   "outputs": [],
   "source": [
    "pip install numpy opencv-python"
   ]
  },
  {
   "cell_type": "markdown",
   "metadata": {},
   "source": [
    "# For Video"
   ]
  },
  {
   "cell_type": "code",
   "execution_count": 1,
   "metadata": {},
   "outputs": [
    {
     "name": "stdout",
     "output_type": "stream",
     "text": [
      "FPS=  10.0\n",
      "Total time taken=  28.151073455810547\n"
     ]
    }
   ],
   "source": [
    "import cv2\n",
    "import numpy as np\n",
    "import argparse\n",
    "import os\n",
    "from utils import process_frame, draw_prediction\n",
    "import time\n",
    "import math\n",
    "from datetime import date\n",
    "import os\n",
    "import sys\n",
    "import shutil\n",
    "\n",
    "\n",
    "CONF_THRESHOLD = 0.3\n",
    "NMS_THRESHOLD = 0.4\n",
    "\n",
    "with open('Model_Data/coco.names', 'rt') as f:\n",
    "    classes = f.read().rstrip('\\n').split('\\n')\n",
    "\n",
    "net = cv2.dnn.readNet(os.path.abspath(\"Model_Data/yolov4_tiny.weights\"), os.path.abspath(\"Model_Data/yolov4_tiny.cfg\"), \"darknet\")\n",
    "outNames = net.getUnconnectedOutLayersNames()\n",
    "writer = None\n",
    "\n",
    "cap = cv2.VideoCapture('Data/walking.avi')\n",
    "# cap = cv2.VideoCapture('Data/sd2.mp4')\n",
    "# cap = cv2.VideoCapture('Data/violence.mp4')\n",
    "\n",
    "count = 0\n",
    "fps = cap.get(cv2.CAP_PROP_FPS)\n",
    "print(\"FPS= \",fps)\n",
    "v=fps//5+1\n",
    "\n",
    "parent_dir=os.path.abspath(os.getcwd())\n",
    "p = \"Violation Frames\"\n",
    "p1 = os.path.join(parent_dir, p) \n",
    "\n",
    "try:  \n",
    "    os.mkdir(p1)  \n",
    "except OSError as error:  \n",
    "    shutil.rmtree(p)\n",
    "    os.mkdir(p1)\n",
    "\n",
    "\n",
    "t0 = time.time()\n",
    "\n",
    "while(cap.isOpened()):\n",
    "    ret, frame = cap.read()\n",
    "\n",
    "    if not ret:\n",
    "        break;\n",
    "    \n",
    "    if(count%(v)==0):\n",
    "        blob = cv2.dnn.blobFromImage(frame, 1 / 255.0, (416, 416), swapRB=True, crop=False)\n",
    "        net.setInput(blob)\n",
    "        outs = net.forward(outNames)\n",
    "        L=process_frame(frame, outs, classes, CONF_THRESHOLD, NMS_THRESHOLD)\n",
    "        \n",
    "        # social distancing not followed\n",
    "        if L>0:\n",
    "            today = date.today()\n",
    "            t = time.localtime()\n",
    "            date_=today.strftime(\"%b-%d-%Y\")\n",
    "            current_time = time.strftime(\"%H:%M:%S\", t)\n",
    "            ttt=\"\"\n",
    "            for q in range(len(current_time)):\n",
    "                if current_time[q]==\":\":\n",
    "                    ttt+=\"-\"\n",
    "                else:\n",
    "                    ttt+=current_time[q]\n",
    "            \n",
    "            img_name=p1+\"/\"+date_+\"_\"+ttt+\"_\"+str(L)+\".png\"\n",
    "            cv2.imwrite(img_name, frame)  \n",
    "            \n",
    "        cv2.imshow(\"Output\", frame)\n",
    "        \n",
    "        key=cv2.waitKey(5)\n",
    "        \n",
    "        if key==27:\n",
    "            break\n",
    "\n",
    "    count+=1\n",
    "\n",
    "t1 = time.time()\n",
    "\n",
    "cap.release()\n",
    "# writer.release()\n",
    "cv2.destroyAllWindows()\n",
    "\n",
    "total = t1-t0\n",
    "print(\"Total time taken= \",total)"
   ]
  },
  {
   "cell_type": "markdown",
   "metadata": {},
   "source": [
    "# For Image"
   ]
  },
  {
   "cell_type": "code",
   "execution_count": null,
   "metadata": {},
   "outputs": [],
   "source": [
    "import cv2\n",
    "import numpy as np\n",
    "import argparse\n",
    "from utils import process_frame, draw_prediction\n",
    "\n",
    "# Define constants\n",
    "# CONF_THRESHOLD is confidence threshold. Only detection with confidence greater than this will be retained\n",
    "# NMS_THRESHOLD is used for non-max suppression\n",
    "CONF_THRESHOLD = 0.3\n",
    "NMS_THRESHOLD = 0.4\n",
    "\n",
    "\n",
    "import os\n",
    "image = cv2.imread('dd.jpg')\n",
    "# Read image from command line arguments\n",
    "\n",
    "\n",
    "# Read COCO dataset classes\n",
    "with open('coco.names', 'rt') as f:\n",
    "    classes = f.read().rstrip('\\n').split('\\n')\n",
    "\n",
    "# Load the network with YOLOv3 weights and config using darknet framework\n",
    "net = cv2.dnn.readNet(os.path.abspath(\"yolov4_tiny.weights\"), os.path.abspath(\"yolov4_tiny.cfg\"), \"darknet\")\n",
    "\n",
    "\n",
    "# Get the output layer names used for forward pass\n",
    "outNames = net.getUnconnectedOutLayersNames()\n",
    "blob = cv2.dnn.blobFromImage(image, 1 / 255.0, (416, 416), swapRB=True, crop=False)\n",
    "\n",
    "# Set the input\n",
    "net.setInput(blob)\n",
    "\n",
    "# Run forward pass\n",
    "outs = net.forward(outNames)\n",
    "# Process output and draw predictions\n",
    "process_frame(image, outs, classes, CONF_THRESHOLD, NMS_THRESHOLD)\n",
    "\n",
    "cv2.imshow(\"Output\", image)\n",
    "cv2.waitKey(0)\n",
    "cv2.destroyAllWindows()\n",
    "#cv2.imwrite(\"out.png\", image)"
   ]
  },
  {
   "cell_type": "code",
   "execution_count": null,
   "metadata": {},
   "outputs": [],
   "source": [
    "outs[1].shape"
   ]
  },
  {
   "cell_type": "code",
   "execution_count": null,
   "metadata": {},
   "outputs": [],
   "source": []
  }
 ],
 "metadata": {
  "kernelspec": {
   "display_name": "Python 3",
   "language": "python",
   "name": "python3"
  },
  "language_info": {
   "codemirror_mode": {
    "name": "ipython",
    "version": 3
   },
   "file_extension": ".py",
   "mimetype": "text/x-python",
   "name": "python",
   "nbconvert_exporter": "python",
   "pygments_lexer": "ipython3",
   "version": "3.7.9"
  }
 },
 "nbformat": 4,
 "nbformat_minor": 4
}
